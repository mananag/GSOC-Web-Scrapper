{
 "cells": [
  {
   "cell_type": "code",
   "execution_count": 2,
   "metadata": {},
   "outputs": [],
   "source": [
    "import requests\n",
    "import pandas\n",
    "from bs4 import BeautifulSoup"
   ]
  },
  {
   "cell_type": "code",
   "execution_count": 3,
   "outputs": [],
   "source": [
    "year_urls = []\n",
    "for year in range(2021, 2022):\n",
    "    year_url = 'https://summerofcode.withgoogle.com/archive/' + str(year) + '/organizations/'\n",
    "    r = requests.get(year_url)\n",
    "    c = r.content\n",
    "\n",
    "    soup = BeautifulSoup(c, \"html.parser\")\n",
    "    cards = soup.find_all(\"a\", {\"class\" : \"organization-card__link\"})\n",
    "\n",
    "    d = {'Organizations' : [], 'About': [], 'Technology': [], 'Category': [], 'Topics':  [] }\n",
    "\n",
    "    urls = []\n",
    "\n",
    "    for card in cards:\n",
    "        urls.append(\"https://summerofcode.withgoogle.com\" + card.attrs['href'])\n",
    "        d['Organizations'].append(card.find(\"h4\").text)\n",
    "        d['About'].append(card.find(\"div\", {\"class\": \"organization-card__tagline\"}).text)\n",
    "\n",
    "    for url in urls:\n",
    "        temp = []\n",
    "        r_temp = requests.get(url)\n",
    "        s_temp = BeautifulSoup(r_temp.content, \"html.parser\")\n",
    "        separator = ', '\n",
    "        for tech in s_temp.find_all('li', {'class': 'organization__tag organization__tag--technology'}):\n",
    "            temp.append(tech.text)\n",
    "        d['Technology'].append(separator.join(temp))\n",
    "        catag = s_temp.find('li', {'class' : \"organization__tag organization__tag--category\"})\n",
    "        d['Category'].append(catag.find('a').text)\n",
    "        temp = []\n",
    "        for tech in s_temp.find_all('li', {'class': 'organization__tag organization__tag--topic'}):\n",
    "            temp.append(tech.text)\n",
    "        d['Topics'].append(separator.join(temp))\n",
    "\n",
    "    df = pandas.DataFrame(d)\n",
    "    df\n",
    "    df.to_csv('.//doc//gsoc' + str(year) +'.csv')"
   ],
   "metadata": {
    "collapsed": false,
    "pycharm": {
     "name": "#%%\n"
    }
   }
  },
  {
   "cell_type": "code",
   "execution_count": 14,
   "outputs": [],
   "source": [
    "for year in range(2009, 2016):\n",
    "    year_url = \"https://www.google-melange.com/archive/gsoc/\" + str(year)\n",
    "\n",
    "    r = requests.get(year_url)\n",
    "    c = r.content\n",
    "\n",
    "    soup = BeautifulSoup(c, \"html.parser\")\n",
    "    cards = soup.find_all(\"span\", {\"class\": \"mdl-list__item-primary-content\"})\n",
    "\n",
    "\n",
    "    d = {\"Organizations\" : []}\n",
    "    for card in cards:\n",
    "        d[\"Organizations\"].append(card.find(\"a\").text)\n",
    "    df = pandas.DataFrame(d)\n",
    "    df\n",
    "    df.to_csv('gsoc' + str(year) +'.csv')"
   ],
   "metadata": {
    "collapsed": false,
    "pycharm": {
     "name": "#%%\n"
    }
   }
  },
  {
   "cell_type": "code",
   "execution_count": 17,
   "outputs": [
    {
     "ename": "NameError",
     "evalue": "name '__file__' is not defined",
     "output_type": "error",
     "traceback": [
      "\u001B[1;31m---------------------------------------------------------------------------\u001B[0m",
      "\u001B[1;31mNameError\u001B[0m                                 Traceback (most recent call last)",
      "\u001B[1;32m<ipython-input-17-2c9739c913ea>\u001B[0m in \u001B[0;36m<module>\u001B[1;34m\u001B[0m\n\u001B[0;32m      1\u001B[0m \u001B[1;31m# df = pandas.read_csv(\"doc/gsoc2015.csv\")\u001B[0m\u001B[1;33m\u001B[0m\u001B[1;33m\u001B[0m\u001B[1;33m\u001B[0m\u001B[0m\n\u001B[1;32m----> 2\u001B[1;33m \u001B[0m__file__\u001B[0m\u001B[1;33m\u001B[0m\u001B[1;33m\u001B[0m\u001B[0m\n\u001B[0m\u001B[0;32m      3\u001B[0m \u001B[1;33m\u001B[0m\u001B[0m\n\u001B[0;32m      4\u001B[0m \u001B[1;33m\u001B[0m\u001B[0m\n",
      "\u001B[1;31mNameError\u001B[0m: name '__file__' is not defined"
     ]
    }
   ],
   "source": [
    "# df = pandas.read_csv(\"doc/gsoc2015.csv\")\n",
    "__file__\n"
   ],
   "metadata": {
    "collapsed": false,
    "pycharm": {
     "name": "#%%\n"
    }
   }
  },
  {
   "cell_type": "code",
   "execution_count": 44,
   "outputs": [
    {
     "data": {
      "text/plain": "{'slug': '5129526253715456',\n 'name': '52°North GmbH',\n 'program_slug': '2021',\n 'logo_url': '/media/archive/5129526253715456.png',\n 'logo_bg_color': None,\n 'website_url': 'https://52north.org/',\n 'tagline': '52°North works on innovative ideas and technologies in geoinformatics',\n 'description_html': '<p><a href=\"http://52north.org\" target=\"_blank\">52°North</a> is an international research and development non-profit company with partners from academia, the public sector and industry. Our goal is to foster innovation in the field of geoinformatics through a collaborative software development process. Our focus is Spatial Information Research and addresses sensor web technologies, the web of things, linked open data, spatial data infrastructures, citizen science, earth observation, and standardization.\\nSome of our software projects are enviroCar, 52°North SOS, 52°North JavaScript Sensor Web Client, ILWIS, and 52°North WPS. Check out our <a href=\"https://github.com/52North/\" target=\"_blank\">GitHub organization</a> and our <a href=\"https://www.openhub.net/orgs/n52\" target=\"_blank\">Open Hub page</a> to learn more about the wide range of software we work on: from mobile apps to standardized web services, from cutting edge research to established products. 52°North open source projects are used in a broad range of domains (e.g. oceanology, air quality, hydrology, traffic planning) and operational as well as research projects (e.g. European Horizon 2020 or National projects: see our <a href=\"https://52north.org/references/\" target=\"_blank\">references page</a>).\\nAll of the 52°North software is published under an OSI approved open source license.\\n52°North GmbH, which is the legal body, acts as a non-profit organization. This means that the shareholders of 52°North do not receive profit shares or payments from company funds. Instead, the profits earned by 52°North are completely re-invested into the innovation, research and software development process.</p>\\n',\n 'contact_links': [{'url': 'https://twitter.com/fivetwon?lang=en',\n   'name': 'Twitter'},\n  {'url': 'https://wiki.52north.org/Projects/GSoC#Contact', 'name': 'IRC'},\n  {'url': 'gsoc@52north.org', 'name': 'Email'},\n  {'url': 'https://wiki.52north.org/Projects/GSoC#Contact',\n   'name': 'Mailing list'},\n  {'url': 'https://blog.52north.org/', 'name': 'Blog'}],\n 'ideas_list_url': 'https://wiki.52north.org/Projects/GSoC2021ProjectIdeas',\n 'date_created': '2021-11-19T19:33:04.670737Z',\n 'tech_tags': ['python',\n  'javascript',\n  'java',\n  'web services',\n  'ogc standards'],\n 'topic_tags': ['citizen science',\n  'spatial information infrastructures',\n  'open standards',\n  'geoinformation systems'],\n 'categories': ['Science and Medicine']}"
     },
     "execution_count": 44,
     "metadata": {},
     "output_type": "execute_result"
    }
   ],
   "source": [
    "year = 2021\n",
    "year_url = 'https://summerofcode.withgoogle.com/api/archive/programs/' + str(year) + '/organizations/'\n",
    "r = requests.get(year_url)\n",
    "c = r.json()\n",
    "c[0]"
   ],
   "metadata": {
    "collapsed": false,
    "pycharm": {
     "name": "#%%\n"
    }
   }
  },
  {
   "cell_type": "code",
   "execution_count": 56,
   "outputs": [],
   "source": [
    "\n",
    "d = {'Organizations' : [], 'About': [], 'Technology': [], 'Category': [], 'Topics':  [] }\n",
    "\n",
    "for card in c:\n",
    "    d['Organizations'].append(card['name'])\n",
    "    d['About'].append(card['tagline'])\n",
    "    d['Technology'].append(str(card['tech_tags']).replace(\"[\", \"\").replace(\"]\", \"\").replace(\"'\", \"\"))\n",
    "    d['Category'].append(str(card['categories']).replace(\"[\", \"\").replace(\"]\", \"\").replace(\"'\", \"\"))\n",
    "    d['Topics'].append(str(card['topic_tags']).replace(\"[\", \"\").replace(\"]\", \"\").replace(\"'\", \"\"))\n",
    "\n",
    "\n",
    "    df = pandas.DataFrame(d)\n",
    "    df\n",
    "    df.to_csv('.//doc//gsoc' + str(year) +'.csv')"
   ],
   "metadata": {
    "collapsed": false,
    "pycharm": {
     "name": "#%%\n"
    }
   }
  },
  {
   "cell_type": "code",
   "execution_count": 57,
   "outputs": [
    {
     "data": {
      "text/plain": "202"
     },
     "execution_count": 57,
     "metadata": {},
     "output_type": "execute_result"
    }
   ],
   "source": [
    "len(c)"
   ],
   "metadata": {
    "collapsed": false,
    "pycharm": {
     "name": "#%%\n"
    }
   }
  },
  {
   "cell_type": "code",
   "execution_count": null,
   "outputs": [],
   "source": [],
   "metadata": {
    "collapsed": false,
    "pycharm": {
     "name": "#%%\n"
    }
   }
  }
 ],
 "metadata": {
  "kernelspec": {
   "display_name": "Python 3",
   "language": "python",
   "name": "python3"
  },
  "language_info": {
   "codemirror_mode": {
    "name": "ipython",
    "version": 3
   },
   "file_extension": ".py",
   "mimetype": "text/x-python",
   "name": "python",
   "nbconvert_exporter": "python",
   "pygments_lexer": "ipython3",
   "version": "3.9.0"
  }
 },
 "nbformat": 4,
 "nbformat_minor": 4
}
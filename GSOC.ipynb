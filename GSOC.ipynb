{
 "cells": [
  {
   "cell_type": "code",
   "execution_count": 1,
   "metadata": {},
   "outputs": [],
   "source": [
    "import requests\n",
    "from bs4 import BeautifulSoup"
   ]
  },
  {
   "cell_type": "code",
   "execution_count": 3,
   "metadata": {},
   "outputs": [],
   "source": [
    "r = requests.get(\"https://summerofcode.withgoogle.com/archive/2020/organizations/\")\n",
    "c = r.content"
   ]
  },
  {
   "cell_type": "code",
   "execution_count": 7,
   "outputs": [],
   "source": [
    "soup = BeautifulSoup(c, \"html.parser\")\n",
    "cards = soup.find_all(\"a\", {\"class\" : \"organization-card__link\"})"
   ],
   "metadata": {
    "collapsed": false,
    "pycharm": {
     "name": "#%%\n"
    }
   }
  },
  {
   "cell_type": "code",
   "execution_count": 56,
   "outputs": [],
   "source": [
    "d = {'Organizations' : [], 'About': [], 'Technology': [], 'Category': [], 'Topics':  [] }\n",
    "urls = []\n",
    "for card in cards:\n",
    "    urls.append(\"https://summerofcode.withgoogle.com\" + card.attrs['href'])\n",
    "    d['Organizations'].append(card.find(\"h4\").text)\n",
    "    d['About'].append(card.find(\"div\", {\"class\": \"organization-card__tagline\"}).text)"
   ],
   "metadata": {
    "collapsed": false,
    "pycharm": {
     "name": "#%%\n"
    }
   }
  },
  {
   "cell_type": "code",
   "execution_count": null,
   "outputs": [],
   "source": [
    "for url in urls:\n",
    "    temp = []\n",
    "    r_temp = requests.get(url)\n",
    "    s_temp = BeautifulSoup(r_temp.content, \"html.parser\")\n",
    "    separator = ', '\n",
    "    for tech in s_temp.find_all('li', {'class': 'organization__tag organization__tag--technology'}):\n",
    "        temp.append(tech.text)\n",
    "    d['Technology'].append(separator.join(temp))\n",
    "    catag = s_temp.find('li', {'class' : \"organization__tag organization__tag--category\"})\n",
    "    d['Category'].append(catag.find('a').text)\n",
    "    temp = []\n",
    "    for tech in s_temp.find_all('li', {'class': 'organization__tag organization__tag--topic'}):\n",
    "        temp.append(tech.text)\n",
    "    d['Topics'].append(separator.join(temp))"
   ],
   "metadata": {
    "collapsed": false,
    "pycharm": {
     "name": "#%%\n",
     "is_executing": true
    }
   }
  },
  {
   "cell_type": "code",
   "execution_count": 55,
   "outputs": [
    {
     "data": {
      "text/plain": "['web services, floating car data, ogc standards, trajectory analytics',\n 'web services, floating car data, ogc standards, trajectory analytics']"
     },
     "execution_count": 55,
     "metadata": {},
     "output_type": "execute_result"
    }
   ],
   "source": [
    "url = urls[0]\n",
    "r_temp = requests.get(url)\n",
    "s_temp = BeautifulSoup(r_temp.content, \"html.parser\")\n"
   ],
   "metadata": {
    "collapsed": false,
    "pycharm": {
     "name": "#%%\n"
    }
   }
  },
  {
   "cell_type": "code",
   "execution_count": null,
   "outputs": [],
   "source": [],
   "metadata": {
    "collapsed": false,
    "pycharm": {
     "name": "#%%\n"
    }
   }
  }
 ],
 "metadata": {
  "kernelspec": {
   "display_name": "Python 3",
   "language": "python",
   "name": "python3"
  },
  "language_info": {
   "codemirror_mode": {
    "name": "ipython",
    "version": 3
   },
   "file_extension": ".py",
   "mimetype": "text/x-python",
   "name": "python",
   "nbconvert_exporter": "python",
   "pygments_lexer": "ipython3",
   "version": "3.9.0"
  }
 },
 "nbformat": 4,
 "nbformat_minor": 4
}
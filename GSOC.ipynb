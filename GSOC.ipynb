{
 "cells": [
  {
   "cell_type": "code",
   "execution_count": null,
   "metadata": {
    "pycharm": {
     "is_executing": true
    }
   },
   "outputs": [],
   "source": [
    "import requests\n",
    "import pandas\n",
    "from bs4 import BeautifulSoup\n",
    "\n",
    "\n",
    "year_urls = []\n",
    "for year in range(2016, 2021):\n",
    "    year_url = 'https://summerofcode.withgoogle.com/archive/' + str(year) + '/organizations/'\n",
    "    r = requests.get(year_url)\n",
    "    c = r.content\n",
    "\n",
    "    soup = BeautifulSoup(c, \"html.parser\")\n",
    "    cards = soup.find_all(\"a\", {\"class\" : \"organization-card__link\"})\n",
    "\n",
    "    d = {'Organizations' : [], 'About': [], 'Technology': [], 'Category': [], 'Topics':  [] }\n",
    "\n",
    "    urls = []\n",
    "\n",
    "    for card in cards:\n",
    "        urls.append(\"https://summerofcode.withgoogle.com\" + card.attrs['href'])\n",
    "        d['Organizations'].append(card.find(\"h4\").text)\n",
    "        d['About'].append(card.find(\"div\", {\"class\": \"organization-card__tagline\"}).text)\n",
    "\n",
    "    for url in urls:\n",
    "        temp = []\n",
    "        r_temp = requests.get(url)\n",
    "        s_temp = BeautifulSoup(r_temp.content, \"html.parser\")\n",
    "        separator = ', '\n",
    "        for tech in s_temp.find_all('li', {'class': 'organization__tag organization__tag--technology'}):\n",
    "            temp.append(tech.text)\n",
    "        d['Technology'].append(separator.join(temp))\n",
    "        catag = s_temp.find('li', {'class' : \"organization__tag organization__tag--category\"})\n",
    "        d['Category'].append(catag.find('a').text)\n",
    "        temp = []\n",
    "        for tech in s_temp.find_all('li', {'class': 'organization__tag organization__tag--topic'}):\n",
    "            temp.append(tech.text)\n",
    "        d['Topics'].append(separator.join(temp))\n",
    "\n",
    "    df = pandas.DataFrame(d)\n",
    "    df\n",
    "    df.to_csv('.//doc//gsoc' + str(year) +'.csv')"
   ]
  },
  {
   "cell_type": "code",
   "execution_count": 73,
   "outputs": [],
   "source": [],
   "metadata": {
    "collapsed": false,
    "pycharm": {
     "name": "#%%\n"
    }
   }
  }
 ],
 "metadata": {
  "kernelspec": {
   "display_name": "Python 3",
   "language": "python",
   "name": "python3"
  },
  "language_info": {
   "codemirror_mode": {
    "name": "ipython",
    "version": 3
   },
   "file_extension": ".py",
   "mimetype": "text/x-python",
   "name": "python",
   "nbconvert_exporter": "python",
   "pygments_lexer": "ipython3",
   "version": "3.9.0"
  }
 },
 "nbformat": 4,
 "nbformat_minor": 4
}
{
 "cells": [
  {
   "cell_type": "code",
   "execution_count": 1,
   "metadata": {},
   "outputs": [],
   "source": [
    "import requests\n",
    "from bs4 import BeautifulSoup"
   ]
  },
  {
   "cell_type": "code",
   "execution_count": 3,
   "metadata": {},
   "outputs": [],
   "source": [
    "r = requests.get(\"https://summerofcode.withgoogle.com/archive/2020/organizations/\")\n",
    "c = r.content"
   ]
  },
  {
   "cell_type": "code",
   "execution_count": 7,
   "outputs": [],
   "source": [
    "soup = BeautifulSoup(c, \"html.parser\")\n",
    "cards = soup.find_all(\"a\", {\"class\" : \"organization-card__link\"})"
   ],
   "metadata": {
    "collapsed": false,
    "pycharm": {
     "name": "#%%\n"
    }
   }
  },
  {
   "cell_type": "code",
   "execution_count": 56,
   "outputs": [],
   "source": [
    "d = {'Organizations' : [], 'About': [], 'Technology': [], 'Category': [], 'Topics':  [] }\n",
    "urls = []\n",
    "for card in cards:\n",
    "    urls.append(\"https://summerofcode.withgoogle.com\" + card.attrs['href'])\n",
    "    d['Organizations'].append(card.find(\"h4\").text)\n",
    "    d['About'].append(card.find(\"div\", {\"class\": \"organization-card__tagline\"}).text)"
   ],
   "metadata": {
    "collapsed": false,
    "pycharm": {
     "name": "#%%\n"
    }
   }
  },
  {
   "cell_type": "code",
   "execution_count": 57,
   "outputs": [],
   "source": [
    "for url in urls:\n",
    "    temp = []\n",
    "    r_temp = requests.get(url)\n",
    "    s_temp = BeautifulSoup(r_temp.content, \"html.parser\")\n",
    "    separator = ', '\n",
    "    for tech in s_temp.find_all('li', {'class': 'organization__tag organization__tag--technology'}):\n",
    "        temp.append(tech.text)\n",
    "    d['Technology'].append(separator.join(temp))\n",
    "    catag = s_temp.find('li', {'class' : \"organization__tag organization__tag--category\"})\n",
    "    d['Category'].append(catag.find('a').text)\n",
    "    temp = []\n",
    "    for tech in s_temp.find_all('li', {'class': 'organization__tag organization__tag--topic'}):\n",
    "        temp.append(tech.text)\n",
    "    d['Topics'].append(separator.join(temp))"
   ],
   "metadata": {
    "collapsed": false,
    "pycharm": {
     "name": "#%%\n"
    }
   }
  },
  {
   "cell_type": "code",
   "execution_count": 59,
   "outputs": [],
   "source": [
    "import pandas\n",
    "df = pandas.DataFrame(d)\n"
   ],
   "metadata": {
    "collapsed": false,
    "pycharm": {
     "name": "#%%\n"
    }
   }
  },
  {
   "cell_type": "code",
   "execution_count": 60,
   "outputs": [
    {
     "data": {
      "text/plain": "                          Organizations  \\\n0                        52° North GmbH   \n1                         AboutCode.org   \n2    Academy Software Foundation (ASWF)   \n3                        Accord Project   \n4                 AerospaceResearch.net   \n..                                  ...   \n194                    X.Org Foundation   \n195        Xapian Search Engine Library   \n196           XMPP Standards Foundation   \n197                               XWiki   \n198                               Zulip   \n\n                                                 About  \\\n0    52°North works on innovative ideas and technol...   \n1    Find the origin, license and vulnerabilities o...   \n2    Open source foundation for film industry proje...   \n3    Linux Foundation’s open source project for sma...   \n4                                making space together   \n..                                                 ...   \n194  X Window System and related projects (Mesa, DR...   \n195                 Fast, scalable and flexible search   \n196  Secure and federated communication with open s...   \n197           The Advanced Open Source Enterprise Wiki   \n198  Powerful, modern, open source team chat, compl...   \n\n                                            Technology  \\\n0            java, android, javascript,  python, react   \n1        python, c/c++, rust,  javascript,  postgresql   \n2                                       c/c++,  python   \n3             javascript,  react, coq, ocaml, compiler   \n4              python, vhdl, raspberry pi, sqlite, c++   \n..                                                 ...   \n194               x11, opencl, opengl, wayland, vulkan   \n195                  c++, unicode, swig, linux, golang   \n196                     java, xmpp, vala, webrtc,  lua   \n197            java,  javascript, html5, css, velocity   \n198  python, react native, django, typescript, elec...   \n\n                                        Category  \\\n0                           Science and Medicine   \n1    Programming Languages and Development Tools   \n2     Graphics / Video / Audio / Virtual Reality   \n3    Programming Languages and Development Tools   \n4                           Science and Medicine   \n..                                           ...   \n194   Graphics / Video / Audio / Virtual Reality   \n195                           Data and Databases   \n196                      Social / Communications   \n197                                          Web   \n198                      Social / Communications   \n\n                                                Topics  \n0    web services, floating car data, ogc standards...  \n1    dependencies, license-scan, application securi...  \n2    2d/3d graphics, cloud computing, file formats,...  \n3    smart contracts, legal, blockchain, compilers, ai  \n4    cubesats, space applications, software defined...  \n..                                                 ...  \n194  graphics stack, 2d/3d graphics, windowing syst...  \n195  search, information retrieval, machine learnin...  \n196    instant messaging, realtime communication, voip  \n197  web development, wiki, platform, web applicati...  \n198  bots, mobile, chat, great developer tooling, v...  \n\n[199 rows x 5 columns]",
      "text/html": "<div>\n<style scoped>\n    .dataframe tbody tr th:only-of-type {\n        vertical-align: middle;\n    }\n\n    .dataframe tbody tr th {\n        vertical-align: top;\n    }\n\n    .dataframe thead th {\n        text-align: right;\n    }\n</style>\n<table border=\"1\" class=\"dataframe\">\n  <thead>\n    <tr style=\"text-align: right;\">\n      <th></th>\n      <th>Organizations</th>\n      <th>About</th>\n      <th>Technology</th>\n      <th>Category</th>\n      <th>Topics</th>\n    </tr>\n  </thead>\n  <tbody>\n    <tr>\n      <th>0</th>\n      <td>52° North GmbH</td>\n      <td>52°North works on innovative ideas and technol...</td>\n      <td>java, android, javascript,  python, react</td>\n      <td>Science and Medicine</td>\n      <td>web services, floating car data, ogc standards...</td>\n    </tr>\n    <tr>\n      <th>1</th>\n      <td>AboutCode.org</td>\n      <td>Find the origin, license and vulnerabilities o...</td>\n      <td>python, c/c++, rust,  javascript,  postgresql</td>\n      <td>Programming Languages and Development Tools</td>\n      <td>dependencies, license-scan, application securi...</td>\n    </tr>\n    <tr>\n      <th>2</th>\n      <td>Academy Software Foundation (ASWF)</td>\n      <td>Open source foundation for film industry proje...</td>\n      <td>c/c++,  python</td>\n      <td>Graphics / Video / Audio / Virtual Reality</td>\n      <td>2d/3d graphics, cloud computing, file formats,...</td>\n    </tr>\n    <tr>\n      <th>3</th>\n      <td>Accord Project</td>\n      <td>Linux Foundation’s open source project for sma...</td>\n      <td>javascript,  react, coq, ocaml, compiler</td>\n      <td>Programming Languages and Development Tools</td>\n      <td>smart contracts, legal, blockchain, compilers, ai</td>\n    </tr>\n    <tr>\n      <th>4</th>\n      <td>AerospaceResearch.net</td>\n      <td>making space together</td>\n      <td>python, vhdl, raspberry pi, sqlite, c++</td>\n      <td>Science and Medicine</td>\n      <td>cubesats, space applications, software defined...</td>\n    </tr>\n    <tr>\n      <th>...</th>\n      <td>...</td>\n      <td>...</td>\n      <td>...</td>\n      <td>...</td>\n      <td>...</td>\n    </tr>\n    <tr>\n      <th>194</th>\n      <td>X.Org Foundation</td>\n      <td>X Window System and related projects (Mesa, DR...</td>\n      <td>x11, opencl, opengl, wayland, vulkan</td>\n      <td>Graphics / Video / Audio / Virtual Reality</td>\n      <td>graphics stack, 2d/3d graphics, windowing syst...</td>\n    </tr>\n    <tr>\n      <th>195</th>\n      <td>Xapian Search Engine Library</td>\n      <td>Fast, scalable and flexible search</td>\n      <td>c++, unicode, swig, linux, golang</td>\n      <td>Data and Databases</td>\n      <td>search, information retrieval, machine learnin...</td>\n    </tr>\n    <tr>\n      <th>196</th>\n      <td>XMPP Standards Foundation</td>\n      <td>Secure and federated communication with open s...</td>\n      <td>java, xmpp, vala, webrtc,  lua</td>\n      <td>Social / Communications</td>\n      <td>instant messaging, realtime communication, voip</td>\n    </tr>\n    <tr>\n      <th>197</th>\n      <td>XWiki</td>\n      <td>The Advanced Open Source Enterprise Wiki</td>\n      <td>java,  javascript, html5, css, velocity</td>\n      <td>Web</td>\n      <td>web development, wiki, platform, web applicati...</td>\n    </tr>\n    <tr>\n      <th>198</th>\n      <td>Zulip</td>\n      <td>Powerful, modern, open source team chat, compl...</td>\n      <td>python, react native, django, typescript, elec...</td>\n      <td>Social / Communications</td>\n      <td>bots, mobile, chat, great developer tooling, v...</td>\n    </tr>\n  </tbody>\n</table>\n<p>199 rows × 5 columns</p>\n</div>"
     },
     "execution_count": 60,
     "metadata": {},
     "output_type": "execute_result"
    }
   ],
   "source": [
    "df"
   ],
   "metadata": {
    "collapsed": false,
    "pycharm": {
     "name": "#%%\n"
    }
   }
  },
  {
   "cell_type": "code",
   "execution_count": 63,
   "outputs": [],
   "source": [
    "df.to_csv('gsoc.csv')"
   ],
   "metadata": {
    "collapsed": false,
    "pycharm": {
     "name": "#%%\n"
    }
   }
  },
  {
   "cell_type": "code",
   "execution_count": null,
   "outputs": [],
   "source": [],
   "metadata": {
    "collapsed": false,
    "pycharm": {
     "name": "#%%\n"
    }
   }
  }
 ],
 "metadata": {
  "kernelspec": {
   "display_name": "Python 3",
   "language": "python",
   "name": "python3"
  },
  "language_info": {
   "codemirror_mode": {
    "name": "ipython",
    "version": 3
   },
   "file_extension": ".py",
   "mimetype": "text/x-python",
   "name": "python",
   "nbconvert_exporter": "python",
   "pygments_lexer": "ipython3",
   "version": "3.9.0"
  }
 },
 "nbformat": 4,
 "nbformat_minor": 4
}